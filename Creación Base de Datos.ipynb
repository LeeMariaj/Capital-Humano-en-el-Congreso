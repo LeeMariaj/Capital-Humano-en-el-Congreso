{
 "cells": [
  {
   "cell_type": "markdown",
   "id": "0778ee86",
   "metadata": {},
   "source": [
    "# Creación de la Base de Datos\n",
    "Por: María José Lee\n",
    "Fecha: 24 de noviembre, 2021"
   ]
  },
  {
   "cell_type": "markdown",
   "id": "48dbda76",
   "metadata": {},
   "source": [
    "## 1. Se importan la Librerías"
   ]
  },
  {
   "cell_type": "code",
   "execution_count": 1,
   "id": "1cbcb278",
   "metadata": {},
   "outputs": [],
   "source": [
    "import re\n",
    "import requests\n",
    "from bs4 import BeautifulSoup\n",
    "import pandas as pd\n",
    "import matplotlib.pyplot as plt"
   ]
  },
  {
   "cell_type": "markdown",
   "id": "46204c92",
   "metadata": {},
   "source": [
    "## 2. Datos del API de Congreso Abierto\n",
    "\n",
    "Se descarga el codigo de las páginas de la API de Congreso Visible."
   ]
  },
  {
   "cell_type": "code",
   "execution_count": 2,
   "id": "1c85242f",
   "metadata": {},
   "outputs": [],
   "source": [
    "# Se crea una variable vacía, en la cual poder guardar el codigo de las páginas\n",
    "html = \"\"\n",
    "\n",
    "# Se utiliza un loop para descargar el codigo de todas las páginas y agregarlo a la variable html\n",
    "for i in range(30):\n",
    "    link = 'http://congresovisible.uniandes.edu.co/api/apis/congresistas/?page=F'\n",
    "    link = link.replace(\"F\", str(i+1))\n",
    "    a = requests.get(link).text\n",
    "    html = html + \" \" + a "
   ]
  },
  {
   "cell_type": "code",
   "execution_count": 3,
   "id": "37925614",
   "metadata": {},
   "outputs": [],
   "source": [
    "# Reemplazamos en la variable html todos los códigos por las letras con tilde que representan\n",
    "html = html.replace(\"\\\\u00c1\", \"Á\").replace(\"\\\\u00e1\", \"á\").replace(\"\\\\u00e9\", \"é\").replace(\"\\\\u00ed\", \"í\").replace(\"\\\\u00f3\", \"ó\").replace(\" \\\\\", \"\").replace(\"\\\\u00d3\", \"Ó\").replace(\"\\\\u00fa\", \"ú\")"
   ]
  },
  {
   "cell_type": "markdown",
   "id": "132772cc",
   "metadata": {},
   "source": [
    "### Extracción de los datos "
   ]
  },
  {
   "cell_type": "code",
   "execution_count": 4,
   "id": "2dd0ef89",
   "metadata": {},
   "outputs": [],
   "source": [
    "# Código que extrae el nombre de los congresistas\n",
    "matches = re.findall(r'{\"first_name\": \"(.+?)\"', str(html))\n",
    "\n",
    "# Se guardan en una lista vacía por medio de un loop\n",
    "Nombres = []\n",
    "for match in matches:\n",
    "    Nombres.append(match)"
   ]
  },
  {
   "cell_type": "code",
   "execution_count": 5,
   "id": "2f8cf598",
   "metadata": {},
   "outputs": [],
   "source": [
    "# Código que extrae el apellido de los congresistas\n",
    "matches = re.findall(r'\"last_name\": \"(.+?)\"', str(html))\n",
    "\n",
    "# Se guardan en una lista vacía por medio de un loop\n",
    "Apellidos = []\n",
    "for match in matches:\n",
    "    Apellidos.append(match)"
   ]
  },
  {
   "cell_type": "code",
   "execution_count": 6,
   "id": "6325bc16",
   "metadata": {},
   "outputs": [],
   "source": [
    "# Código extrae la Camara en la que trabajan los congresistas\n",
    "matches = re.findall(r'\"camera\": \"(.+?)\"', str(html))\n",
    "\n",
    "# Se guardan en una lista vacía por medio de un loop\n",
    "Camara = []\n",
    "for match in matches:\n",
    "    Camara.append(match)"
   ]
  },
  {
   "cell_type": "code",
   "execution_count": 7,
   "id": "f2519593",
   "metadata": {},
   "outputs": [],
   "source": [
    "# Código que extrae el Género del congresista\n",
    "matches = re.findall(r'\"gender\": \"(.+?)\"', str(html))\n",
    "\n",
    "# Se guardan en una lista vacía por medio de un loop\n",
    "Genero = []\n",
    "for match in matches:\n",
    "    Genero.append(match)"
   ]
  },
  {
   "cell_type": "code",
   "execution_count": 8,
   "id": "8a5dbed6",
   "metadata": {
    "scrolled": true
   },
   "outputs": [],
   "source": [
    "# Código que extre el Partido Político del congresista\n",
    "matches = re.findall(r'\"political_party\": {\"name\": \"(.+?)\"', str(html))\n",
    "\n",
    "# Se guardan en una lista vacía por medio de un loop\n",
    "Partido = []\n",
    "for match in matches:\n",
    "    Partido.append(match)"
   ]
  },
  {
   "cell_type": "markdown",
   "id": "78fd0436",
   "metadata": {},
   "source": [
    "## 3. Datos de las Páginas de los Congresistas\n",
    "\n",
    "Se utiliza la pagína individual de cada congresista para adquirir información adicional."
   ]
  },
  {
   "cell_type": "code",
   "execution_count": 9,
   "id": "2b51d26c",
   "metadata": {},
   "outputs": [],
   "source": [
    "# Código que extrea el Link de la Página Individual de cada Congresista\n",
    "matches = re.findall(r'\"web_url\": \"(.+?)\"', str(html))\n",
    "\n",
    "# Se guardan en una lista vacía por medio de un loop\n",
    "Links_ind = []\n",
    "for match in matches:\n",
    "    Links_ind.append(match)"
   ]
  },
  {
   "cell_type": "markdown",
   "id": "6b3a45d7",
   "metadata": {},
   "source": [
    "### Extracción de los datos "
   ]
  },
  {
   "cell_type": "code",
   "execution_count": 10,
   "id": "31bebebd",
   "metadata": {
    "scrolled": true
   },
   "outputs": [],
   "source": [
    "# Creamos listas vacías para guardar los datos\n",
    "Nivel_Educ = []\n",
    "Lug_Naci = []\n",
    "Fecha_Naci = []\n",
    "Autoria_ley = []\n",
    "Votos = []\n",
    "Profesión = []\n",
    "\n",
    "# Utilizamos un loop para ir a las páginas individuales de los congresistas,\n",
    "for i in range(len(Links_ind)):\n",
    "    html_2 = requests.get(Links_ind[i]).text\n",
    "    matches_1 = re.findall(r'Educativo<\\/h3><p>(.+?)<', str(html_2))\n",
    "    Nivel_Educ.append(matches_1)\n",
    "    matches_2 = re.findall(r'nacimiento<\\/h3><p>\\n                                          (.+?)\\n', str(html_2))\n",
    "    Lug_Naci.append(matches_2)\n",
    "    matches_3 = re.findall(r'nacimiento<\\/h3><p>(.+?)<\\/p><h3>Lugar', str(html_2))\n",
    "    Fecha_Naci.append(matches_3)\n",
    "    matches_4 = re.findall(r'Proyectos de Ley<\\/p><p>(.+?)<', str(html_2))\n",
    "    Autoria_ley.append(matches_4)\n",
    "    matches_5 = re.findall(r'<th>Votaciones<\\/th><td>(.+?)<', str(html_2))\n",
    "    Votos.append(matches_5)\n",
    "    matches_6 = re.findall(r'Profesi&oacute;n<\\/h3><p>(.+?)<', str(html_2))\n",
    "    Profesión.append(matches_6)"
   ]
  },
  {
   "cell_type": "markdown",
   "id": "db36dacc",
   "metadata": {},
   "source": [
    "### Limpieza de Datos\n",
    "Nos damos cuenta que las listas recogidas por el codigo anterior son listas de listas, por lo que se decide generar nuevas listas."
   ]
  },
  {
   "cell_type": "code",
   "execution_count": 11,
   "id": "17b084cf",
   "metadata": {},
   "outputs": [],
   "source": [
    "# Creamos una lista vacía para guardar los datos\n",
    "Nivel_Educ2 = []\n",
    "\n",
    "# Utilizamos un loop para guardar el contenido de la lista de \n",
    "# listas en una sola lista\n",
    "for i in range(len(Nivel_Educ)):\n",
    "    j = Nivel_Educ[i][0]\n",
    "    Nivel_Educ2.append(j)"
   ]
  },
  {
   "cell_type": "code",
   "execution_count": 12,
   "id": "1452cfdd",
   "metadata": {},
   "outputs": [],
   "source": [
    "# Creamos una lista vacía para guardar los datos\n",
    "Fecha_Naci2 = []\n",
    "\n",
    "# Utilizamos un loop para guardar el contenido de la lista de \n",
    "# listas en una sola lista\n",
    "for i in range(len(Fecha_Naci)):\n",
    "    j = Fecha_Naci[i][0]\n",
    "    Fecha_Naci2.append(j)"
   ]
  },
  {
   "cell_type": "code",
   "execution_count": 13,
   "id": "c007be57",
   "metadata": {},
   "outputs": [],
   "source": [
    "# Creamos una lista vacía para guardar los datos\n",
    "Autoria_ley2 = []\n",
    "\n",
    "# Utilizamos un loop para guardar el contenido de la lista de \n",
    "# listas en una sola lista\n",
    "for i in range(len(Autoria_ley)):\n",
    "    j = Autoria_ley[i][0]\n",
    "    Autoria_ley2.append(j)"
   ]
  },
  {
   "cell_type": "code",
   "execution_count": 14,
   "id": "0b904c70",
   "metadata": {},
   "outputs": [],
   "source": [
    "# Creamos una lista vacía para guardar los datos\n",
    "Votos2 = []\n",
    "\n",
    "# Utilizamos un loop para guardar el contenido de la lista de \n",
    "# listas en una sola lista\n",
    "for i in range(len(Votos)):\n",
    "    j = Votos[i][0]\n",
    "    Votos2.append(j)\n",
    "    \n",
    "for i in range(len(Votos2)):\n",
    "    if Votos2[i] == \"-\":\n",
    "        Votos2[i] = \"null\""
   ]
  },
  {
   "cell_type": "code",
   "execution_count": 15,
   "id": "7f44abb5",
   "metadata": {},
   "outputs": [],
   "source": [
    "# Creamos una lista vacía para guardar los datos\n",
    "Profesión2 = []\n",
    "\n",
    "# Utilizamos un loop para guardar el contenido de la lista de \n",
    "# listas en una sola lista\n",
    "for i in range(len(Votos)):\n",
    "    j = Profesión[i][0]\n",
    "    Profesión2.append(j)"
   ]
  },
  {
   "cell_type": "markdown",
   "id": "42893290",
   "metadata": {},
   "source": [
    "## 4. Generación de Nuevas Variables\n",
    "\n",
    "Generamos una variable con el nombre completo de los congresistas."
   ]
  },
  {
   "cell_type": "code",
   "execution_count": 16,
   "id": "72942631",
   "metadata": {},
   "outputs": [],
   "source": [
    "#Creamos una lista vacía para guardar los datos\n",
    "Nom_Com = []\n",
    "\n",
    "# Generamos un loop que una los nombres con los apellidos de los congresistas\n",
    "for i in range(len(Nombres)):\n",
    "    k = Nombres[i] + \" \" + Apellidos[i]\n",
    "    Nom_Com.append(k)"
   ]
  },
  {
   "cell_type": "markdown",
   "id": "3cd95cb7",
   "metadata": {},
   "source": [
    "Generamos una variable con el departamento de nacimiento de los congresistas."
   ]
  },
  {
   "cell_type": "code",
   "execution_count": 17,
   "id": "749bcc16",
   "metadata": {},
   "outputs": [],
   "source": [
    "# Creamos listas vacías para guardar los datos\n",
    "Lug_Naci2 = []\n",
    "Lug_Naci3 = []\n",
    "Dept_Naci = []\n",
    "\n",
    "# Utilizamos un loop para guardar el contenido de la lista de \n",
    "# listas en una sola lista\n",
    "for i in range(len(Lug_Naci)):\n",
    "    j = Lug_Naci[i][0]\n",
    "    Lug_Naci2.append(j)\n",
    "\n",
    "#Reemplazamos los guiones por la palabra null\n",
    "for i in range(len(Lug_Naci2)):\n",
    "    if Lug_Naci2[i] == \"-\":\n",
    "        Lug_Naci2[i] = \"null\"\n",
    "             \n",
    "# Nos quedamos solo con los departamentos\n",
    "for i in range(len(Lug_Naci2)):\n",
    "    j = Lug_Naci2[i]\n",
    "    matches_1 = re.findall(r' - (.+)|(null)', j)\n",
    "    Lug_Naci3.append(matches_1)\n",
    "    match = Lug_Naci3[i][0][1]+Lug_Naci3[i][0][0]\n",
    "    Dept_Naci.append(match)"
   ]
  },
  {
   "cell_type": "markdown",
   "id": "edeaf182",
   "metadata": {},
   "source": [
    "Generamos una variable que calcula la edad de los congresistas para el final del 2021."
   ]
  },
  {
   "cell_type": "code",
   "execution_count": 18,
   "id": "2923f3d4",
   "metadata": {},
   "outputs": [],
   "source": [
    "# Creamos una lista vacía para guardar los datos\n",
    "Edad = []\n",
    "\n",
    "# Generamos una copia de la lista de Fechas de Nacimiento sobre la cual poder trabajar\n",
    "Fecha_Naci3 = Fecha_Naci2\n",
    "\n",
    "# Utilizamos un loop para guardar el contenido de la lista de \n",
    "# listas en una sola lista\n",
    "for i in range(len(Fecha_Naci3)):\n",
    "    if Fecha_Naci3[i][-4:] == \"-\":\n",
    "        Fecha_Naci3[i] = \"null\"\n",
    "        j = Fecha_Naci3[i]\n",
    "    else:\n",
    "        j = 2021 - int(Fecha_Naci3[i][-4:])\n",
    "    Edad.append(j)"
   ]
  },
  {
   "cell_type": "markdown",
   "id": "3a1907d1",
   "metadata": {},
   "source": [
    "Generamos una variable que, basado en el nivel educativo alcanzado, genera una aproximacion de la cantidad de años que el congresista ha pasado estudiando."
   ]
  },
  {
   "cell_type": "code",
   "execution_count": 19,
   "id": "95d7706a",
   "metadata": {},
   "outputs": [],
   "source": [
    "# Creamos una lista vacía\n",
    "Años_Edu = []\n",
    "\n",
    "# Le asignamos un valor estimado en años a cada categoría, y en base a\n",
    "# eso usamos un loop para crear una nueva lista de años de educación\n",
    "for i in range(len(Nivel_Educ)):\n",
    "    j = Nivel_Educ2[i]\n",
    "    if j == \"Primaria Incompleta\":\n",
    "        a = 3\n",
    "    elif j == \"Bachillerato Completo\":\n",
    "        a = 11\n",
    "    elif j == \"Universitaria Incompleta\":\n",
    "        a = 13.25\n",
    "    elif j == \"Universitaria Completa\":\n",
    "        a = 15.5\n",
    "    elif j == \"Especializacion\":\n",
    "        a = 17.5\n",
    "    elif j == \"Maestria\":\n",
    "        a = 19\n",
    "    elif j == \"Doctorado\":\n",
    "        a = 20.5\n",
    "    else:\n",
    "        a = \"null\"\n",
    "    Años_Edu.append(a)"
   ]
  },
  {
   "cell_type": "markdown",
   "id": "1bc571ea",
   "metadata": {},
   "source": [
    "## 5. Creación de los DataFrame"
   ]
  },
  {
   "cell_type": "code",
   "execution_count": 20,
   "id": "ff5073ad",
   "metadata": {
    "scrolled": true
   },
   "outputs": [
    {
     "data": {
      "text/html": [
       "<div>\n",
       "<style scoped>\n",
       "    .dataframe tbody tr th:only-of-type {\n",
       "        vertical-align: middle;\n",
       "    }\n",
       "\n",
       "    .dataframe tbody tr th {\n",
       "        vertical-align: top;\n",
       "    }\n",
       "\n",
       "    .dataframe thead th {\n",
       "        text-align: right;\n",
       "    }\n",
       "</style>\n",
       "<table border=\"1\" class=\"dataframe\">\n",
       "  <thead>\n",
       "    <tr style=\"text-align: right;\">\n",
       "      <th></th>\n",
       "      <th>Edad</th>\n",
       "      <th>Departamento de Nacimiento</th>\n",
       "      <th>Nivel Educativo</th>\n",
       "      <th>Años de Educación</th>\n",
       "      <th>Profesión</th>\n",
       "      <th>Género</th>\n",
       "      <th>Partido</th>\n",
       "      <th>Camara</th>\n",
       "      <th>Votos</th>\n",
       "      <th>Autoría en Proyectos de Ley</th>\n",
       "    </tr>\n",
       "    <tr>\n",
       "      <th>Nombres</th>\n",
       "      <th></th>\n",
       "      <th></th>\n",
       "      <th></th>\n",
       "      <th></th>\n",
       "      <th></th>\n",
       "      <th></th>\n",
       "      <th></th>\n",
       "      <th></th>\n",
       "      <th></th>\n",
       "      <th></th>\n",
       "    </tr>\n",
       "  </thead>\n",
       "  <tbody>\n",
       "    <tr>\n",
       "      <th>Nidia Marcela Osorio Salgado</th>\n",
       "      <td>57</td>\n",
       "      <td>Antioquia</td>\n",
       "      <td>Especializacion</td>\n",
       "      <td>17.5</td>\n",
       "      <td>Economista</td>\n",
       "      <td>Femenino</td>\n",
       "      <td>Conservador Colombiano</td>\n",
       "      <td>Cámara de Representantes</td>\n",
       "      <td>2070</td>\n",
       "      <td>80</td>\n",
       "    </tr>\n",
       "    <tr>\n",
       "      <th>Yenica Sugein Acosta Infante</th>\n",
       "      <td>41</td>\n",
       "      <td>Amazonas</td>\n",
       "      <td>Especializacion</td>\n",
       "      <td>17.5</td>\n",
       "      <td>Ciencias de la Salud</td>\n",
       "      <td>Femenino</td>\n",
       "      <td>Centro Democrático</td>\n",
       "      <td>Cámara de Representantes</td>\n",
       "      <td>null</td>\n",
       "      <td>81</td>\n",
       "    </tr>\n",
       "    <tr>\n",
       "      <th>Harold Augusto Valencia Infante</th>\n",
       "      <td>49</td>\n",
       "      <td>Amazonas</td>\n",
       "      <td>Maestria</td>\n",
       "      <td>19</td>\n",
       "      <td>Comercio Exterior</td>\n",
       "      <td>Masculino</td>\n",
       "      <td>Partido de la U - Partido Social de Unidad Nac...</td>\n",
       "      <td>Cámara de Representantes</td>\n",
       "      <td>null</td>\n",
       "      <td>28</td>\n",
       "    </tr>\n",
       "    <tr>\n",
       "      <th>Oscar Darío  Pérez Pineda</th>\n",
       "      <td>69</td>\n",
       "      <td>Antioquia</td>\n",
       "      <td>Especializacion</td>\n",
       "      <td>17.5</td>\n",
       "      <td>Contador/a</td>\n",
       "      <td>Masculino</td>\n",
       "      <td>Centro Democrático</td>\n",
       "      <td>Cámara de Representantes</td>\n",
       "      <td>826</td>\n",
       "      <td>212</td>\n",
       "    </tr>\n",
       "    <tr>\n",
       "      <th>Esteban Quintero Cardona</th>\n",
       "      <td>35</td>\n",
       "      <td>Antioquia</td>\n",
       "      <td>Especializacion</td>\n",
       "      <td>17.5</td>\n",
       "      <td>Abogado/a</td>\n",
       "      <td>Masculino</td>\n",
       "      <td>Centro Democrático</td>\n",
       "      <td>Cámara de Representantes</td>\n",
       "      <td>null</td>\n",
       "      <td>86</td>\n",
       "    </tr>\n",
       "    <tr>\n",
       "      <th>...</th>\n",
       "      <td>...</td>\n",
       "      <td>...</td>\n",
       "      <td>...</td>\n",
       "      <td>...</td>\n",
       "      <td>...</td>\n",
       "      <td>...</td>\n",
       "      <td>...</td>\n",
       "      <td>...</td>\n",
       "      <td>...</td>\n",
       "      <td>...</td>\n",
       "    </tr>\n",
       "    <tr>\n",
       "      <th>Javier Mauricio  Delgado Martínez</th>\n",
       "      <td>48</td>\n",
       "      <td>Valle del Cauca</td>\n",
       "      <td>Maestria</td>\n",
       "      <td>19</td>\n",
       "      <td>Abogado/a</td>\n",
       "      <td>Masculino</td>\n",
       "      <td>Conservador Colombiano</td>\n",
       "      <td>Senado</td>\n",
       "      <td>900</td>\n",
       "      <td>27</td>\n",
       "    </tr>\n",
       "    <tr>\n",
       "      <th>José Joaquín Marchena</th>\n",
       "      <td>null</td>\n",
       "      <td>null</td>\n",
       "      <td>Universitaria Incompleta</td>\n",
       "      <td>13.25</td>\n",
       "      <td>Abogado/a</td>\n",
       "      <td>Masculino</td>\n",
       "      <td>Liberal Colombiano</td>\n",
       "      <td>Cámara de Representantes</td>\n",
       "      <td>null</td>\n",
       "      <td>0</td>\n",
       "    </tr>\n",
       "    <tr>\n",
       "      <th>Jhon Alejandro Linares Camberos</th>\n",
       "      <td>null</td>\n",
       "      <td>Cundinamarca</td>\n",
       "      <td>Maestria</td>\n",
       "      <td>19</td>\n",
       "      <td>Abogado/a</td>\n",
       "      <td>Masculino</td>\n",
       "      <td>Partido de la U - Partido Social de Unidad Nac...</td>\n",
       "      <td>Cámara de Representantes</td>\n",
       "      <td>null</td>\n",
       "      <td>1</td>\n",
       "    </tr>\n",
       "    <tr>\n",
       "      <th>Juan Luis Castro Cordoba</th>\n",
       "      <td>46</td>\n",
       "      <td>Antioquia</td>\n",
       "      <td>Maestria</td>\n",
       "      <td>19</td>\n",
       "      <td>Ciencias de la Salud</td>\n",
       "      <td>Masculino</td>\n",
       "      <td>Alianza Verde</td>\n",
       "      <td>Senado</td>\n",
       "      <td>null</td>\n",
       "      <td>114</td>\n",
       "    </tr>\n",
       "    <tr>\n",
       "      <th>Yezid Rafael García Abello</th>\n",
       "      <td>73</td>\n",
       "      <td>Magdalena</td>\n",
       "      <td>Universitaria Completa</td>\n",
       "      <td>15.5</td>\n",
       "      <td>Ingeniero/a</td>\n",
       "      <td>Masculino</td>\n",
       "      <td>Alianza Verde</td>\n",
       "      <td>Senado</td>\n",
       "      <td>null</td>\n",
       "      <td>0</td>\n",
       "    </tr>\n",
       "  </tbody>\n",
       "</table>\n",
       "<p>299 rows × 10 columns</p>\n",
       "</div>"
      ],
      "text/plain": [
       "                                    Edad Departamento de Nacimiento  \\\n",
       "Nombres                                                               \n",
       "Nidia Marcela Osorio Salgado          57                  Antioquia   \n",
       "Yenica Sugein Acosta Infante          41                   Amazonas   \n",
       "Harold Augusto Valencia Infante       49                   Amazonas   \n",
       "Oscar Darío  Pérez Pineda             69                  Antioquia   \n",
       "Esteban Quintero Cardona              35                  Antioquia   \n",
       "...                                  ...                        ...   \n",
       "Javier Mauricio  Delgado Martínez     48            Valle del Cauca   \n",
       "José Joaquín Marchena               null                       null   \n",
       "Jhon Alejandro Linares Camberos     null               Cundinamarca   \n",
       "Juan Luis Castro Cordoba              46                  Antioquia   \n",
       "Yezid Rafael García Abello            73                  Magdalena   \n",
       "\n",
       "                                             Nivel Educativo  \\\n",
       "Nombres                                                        \n",
       "Nidia Marcela Osorio Salgado                 Especializacion   \n",
       "Yenica Sugein Acosta Infante                 Especializacion   \n",
       "Harold Augusto Valencia Infante                     Maestria   \n",
       "Oscar Darío  Pérez Pineda                    Especializacion   \n",
       "Esteban Quintero Cardona                     Especializacion   \n",
       "...                                                      ...   \n",
       "Javier Mauricio  Delgado Martínez                   Maestria   \n",
       "José Joaquín Marchena               Universitaria Incompleta   \n",
       "Jhon Alejandro Linares Camberos                     Maestria   \n",
       "Juan Luis Castro Cordoba                            Maestria   \n",
       "Yezid Rafael García Abello            Universitaria Completa   \n",
       "\n",
       "                                   Años de Educación             Profesión  \\\n",
       "Nombres                                                                      \n",
       "Nidia Marcela Osorio Salgado                    17.5            Economista   \n",
       "Yenica Sugein Acosta Infante                    17.5  Ciencias de la Salud   \n",
       "Harold Augusto Valencia Infante                   19     Comercio Exterior   \n",
       "Oscar Darío  Pérez Pineda                       17.5            Contador/a   \n",
       "Esteban Quintero Cardona                        17.5             Abogado/a   \n",
       "...                                              ...                   ...   \n",
       "Javier Mauricio  Delgado Martínez                 19             Abogado/a   \n",
       "José Joaquín Marchena                          13.25             Abogado/a   \n",
       "Jhon Alejandro Linares Camberos                   19             Abogado/a   \n",
       "Juan Luis Castro Cordoba                          19  Ciencias de la Salud   \n",
       "Yezid Rafael García Abello                      15.5           Ingeniero/a   \n",
       "\n",
       "                                       Género  \\\n",
       "Nombres                                         \n",
       "Nidia Marcela Osorio Salgado         Femenino   \n",
       "Yenica Sugein Acosta Infante         Femenino   \n",
       "Harold Augusto Valencia Infante     Masculino   \n",
       "Oscar Darío  Pérez Pineda           Masculino   \n",
       "Esteban Quintero Cardona            Masculino   \n",
       "...                                       ...   \n",
       "Javier Mauricio  Delgado Martínez   Masculino   \n",
       "José Joaquín Marchena               Masculino   \n",
       "Jhon Alejandro Linares Camberos     Masculino   \n",
       "Juan Luis Castro Cordoba            Masculino   \n",
       "Yezid Rafael García Abello          Masculino   \n",
       "\n",
       "                                                                              Partido  \\\n",
       "Nombres                                                                                 \n",
       "Nidia Marcela Osorio Salgado                                   Conservador Colombiano   \n",
       "Yenica Sugein Acosta Infante                                       Centro Democrático   \n",
       "Harold Augusto Valencia Infante     Partido de la U - Partido Social de Unidad Nac...   \n",
       "Oscar Darío  Pérez Pineda                                          Centro Democrático   \n",
       "Esteban Quintero Cardona                                           Centro Democrático   \n",
       "...                                                                               ...   \n",
       "Javier Mauricio  Delgado Martínez                              Conservador Colombiano   \n",
       "José Joaquín Marchena                                              Liberal Colombiano   \n",
       "Jhon Alejandro Linares Camberos     Partido de la U - Partido Social de Unidad Nac...   \n",
       "Juan Luis Castro Cordoba                                                Alianza Verde   \n",
       "Yezid Rafael García Abello                                              Alianza Verde   \n",
       "\n",
       "                                                      Camara Votos  \\\n",
       "Nombres                                                              \n",
       "Nidia Marcela Osorio Salgado        Cámara de Representantes  2070   \n",
       "Yenica Sugein Acosta Infante        Cámara de Representantes  null   \n",
       "Harold Augusto Valencia Infante     Cámara de Representantes  null   \n",
       "Oscar Darío  Pérez Pineda           Cámara de Representantes   826   \n",
       "Esteban Quintero Cardona            Cámara de Representantes  null   \n",
       "...                                                      ...   ...   \n",
       "Javier Mauricio  Delgado Martínez                     Senado   900   \n",
       "José Joaquín Marchena               Cámara de Representantes  null   \n",
       "Jhon Alejandro Linares Camberos     Cámara de Representantes  null   \n",
       "Juan Luis Castro Cordoba                              Senado  null   \n",
       "Yezid Rafael García Abello                            Senado  null   \n",
       "\n",
       "                                   Autoría en Proyectos de Ley  \n",
       "Nombres                                                         \n",
       "Nidia Marcela Osorio Salgado                                80  \n",
       "Yenica Sugein Acosta Infante                                81  \n",
       "Harold Augusto Valencia Infante                             28  \n",
       "Oscar Darío  Pérez Pineda                                  212  \n",
       "Esteban Quintero Cardona                                    86  \n",
       "...                                                        ...  \n",
       "Javier Mauricio  Delgado Martínez                           27  \n",
       "José Joaquín Marchena                                        0  \n",
       "Jhon Alejandro Linares Camberos                              1  \n",
       "Juan Luis Castro Cordoba                                   114  \n",
       "Yezid Rafael García Abello                                   0  \n",
       "\n",
       "[299 rows x 10 columns]"
      ]
     },
     "execution_count": 20,
     "metadata": {},
     "output_type": "execute_result"
    }
   ],
   "source": [
    "# Creamos un DataFrame con todas las listas\n",
    "df = pd.DataFrame(\n",
    "    {'Nombres': Nom_Com,\n",
    "     'Edad': Edad,\n",
    "     'Departamento de Nacimiento': Dept_Naci,\n",
    "     'Nivel Educativo': Nivel_Educ2,\n",
    "     'Años de Educación': Años_Edu,\n",
    "     'Profesión' : Profesión2,\n",
    "     'Género': Genero,\n",
    "     'Partido': Partido,\n",
    "     'Camara': Camara,\n",
    "     'Votos': Votos2,\n",
    "     'Autoría en Proyectos de Ley': Autoria_ley2,\n",
    "    })\n",
    "\n",
    "# Establecemos la columna de nombres como el indice del DataFrame\n",
    "df = df_reset=df.set_index('Nombres')\n",
    "\n",
    "# Mostramos el DataFrame\n",
    "df"
   ]
  },
  {
   "cell_type": "markdown",
   "id": "2b6eaf75",
   "metadata": {},
   "source": [
    "### DataFrame de los Senadores"
   ]
  },
  {
   "cell_type": "code",
   "execution_count": 21,
   "id": "a4b3e084",
   "metadata": {},
   "outputs": [],
   "source": [
    "# Creamos un Dataframe solo con los Senadores\n",
    "senadores = df[df[\"Camara\"] == \"Senado\"]"
   ]
  },
  {
   "cell_type": "markdown",
   "id": "6bb5d5ee",
   "metadata": {},
   "source": [
    "### DataFrame de los Representantes"
   ]
  },
  {
   "cell_type": "code",
   "execution_count": 22,
   "id": "97de3c0b",
   "metadata": {},
   "outputs": [],
   "source": [
    "# Creamos un DataFrame solo con los Representantes \n",
    "Representantes = df[df[\"Camara\"] != \"Senado\"]"
   ]
  },
  {
   "cell_type": "markdown",
   "id": "68a70873",
   "metadata": {},
   "source": [
    "## 6. Descarga de las bases de datos"
   ]
  },
  {
   "cell_type": "code",
   "execution_count": 23,
   "id": "885dc2af",
   "metadata": {},
   "outputs": [],
   "source": [
    "# Descargamos el DataFrame de los Senadores\n",
    "senadores.to_csv('Senadores.csv')\n",
    "senadores.to_excel(\"Senadores.xlsx\") "
   ]
  },
  {
   "cell_type": "code",
   "execution_count": 24,
   "id": "0f32ae13",
   "metadata": {},
   "outputs": [],
   "source": [
    "# Descargamos el DataFrame de los Representantes\n",
    "Representantes.to_csv('Representantes.csv')\n",
    "Representantes.to_excel(\"Representantes.xlsx\") "
   ]
  }
 ],
 "metadata": {
  "kernelspec": {
   "display_name": "Python 3",
   "language": "python",
   "name": "python3"
  },
  "language_info": {
   "codemirror_mode": {
    "name": "ipython",
    "version": 3
   },
   "file_extension": ".py",
   "mimetype": "text/x-python",
   "name": "python",
   "nbconvert_exporter": "python",
   "pygments_lexer": "ipython3",
   "version": "3.8.8"
  }
 },
 "nbformat": 4,
 "nbformat_minor": 5
}
